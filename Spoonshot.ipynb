{
  "nbformat": 4,
  "nbformat_minor": 0,
  "metadata": {
    "colab": {
      "provenance": [],
      "collapsed_sections": []
    },
    "kernelspec": {
      "name": "python3",
      "display_name": "Python 3"
    },
    "language_info": {
      "name": "python"
    }
  },
  "cells": [
    {
      "cell_type": "code",
      "execution_count": 181,
      "metadata": {
        "id": "VQoP0O7ejEfy"
      },
      "outputs": [],
      "source": [
        "article = \"\"\"munchbox meals munchbox is a geelong-based boutique meal prep and delivery service,\n",
        "specialising in artisan vegan and vegetarian meals and munchies. with a passion for\n",
        "providing delicious and nutritious food that is ethical, sustainable and affordable, all\n",
        "munchbox meals are made from scratch using a balance of the freshest local and organic\n",
        "vegetables and fruit, grains, seeds and nuts and homegrown herbs. we chat to eden callick –\n",
        "the brains behind the business – about all things munchbox. hey! thanks for chatting to forte!\n",
        "first up, can you explain how munchbox became to be? munchbox was a daydream turned\n",
        "reality. i was in a really draining job i hated, and would spend the majority of my lunch-break\n",
        "looking for vegan food. the struggle to find a tasty, good quality, vegan meal is real.\n",
        "sometimes it was so real i’d just give up looking, and go hungry. one day i hungrily and\n",
        "jokingly announced, ‘i’m going to open my own vegan food business’ and with that impulsive\n",
        "announcement, i quit my job almost immediately, and promised myself i would put my whole\n",
        "heart and soul in to becoming the best vegan chef i can be. with a whole lot of determination,\n",
        "passion and support from those around me, munchbox was born and is now my baby! i\n",
        "guess a little bit of selfishness for me to have passion and purpose in life, as well as the lack\n",
        "of real quality vegan cuisine on the geelong food scene is really how munchbox came to be\n",
        "– out of necessity. where did your passion for vegan/vegetarian food come from? i’ve always\n",
        "had a love and passion for food, but it wasn’t until i slowly transitioned to vegan that my\n",
        "passion turned into a true obsession! it opened a whole new door for experimentation in the\n",
        "kitchen; i want to create cruelty free food that tastes and looks better, but most importantly is\n",
        "better for you! nothing makes me happier then feeding people and changing their views on\n",
        "vegan food. can you give our readers a run-down of how ‘munchbox’ works? munchbox is\n",
        "an artisan meal prep and delivery service, providing chef made meals to you. our munchers\n",
        "can order online any time before friday midnight, with meals being ready for pick-up or\n",
        "delivery on sunday. ready for the week ahead! these hours will soon be changing to include\n",
        "24/7 online ordering, with pick-up and delivery between 7am-7pm seven days a week. all\n",
        "meals come ready to eat or heat; those that are best enjoyed heated include a lit flame! we\n",
        "also specialise in events and corporate catering; so, if there’s a bunch that’s got the munch,\n",
        "we’re here to feed your sweet souls! where have you gathered most of your recipes and\n",
        "ideas from? i’m constantly gathering ideas and inspiration from anywhere and everywhere! i\n",
        "have a collection of paper scraps with scribbled recipes, and sleep with a notebook next to\n",
        "my bed just in case i dream up a new idea. i have mood-boards, and future menu lists. it’s a\n",
        "mess really! i find so much inspiration and ideas from traditional non-vegan meals, and have\n",
        "been fortunate enough to work alongside some amazing non-vegan chefs who have (taught)\n",
        "and inspired me incredibly. my mumma and sister, who are huge vegan foodies, are always\n",
        "coming up with insane recipes for me as well. but each recipe is ultimately my own, made\n",
        "from scratch, tried and tested until it’s perfected. how do you determine what local and\n",
        "organic ingredients make the cut? we are passionately committed to sustainability and\n",
        "supporting our local community. our menus are always based around the freshest seasonal\n",
        "produce, sourced from local organic farmers, as well as other artisan vegan businesses who\n",
        "supply some of our ingredients. we also lovingly grow all our own herbs, and as munchbox\n",
        "expands so will our veggie garden; to include some pretty crazy exotic fruit and vege! what\n",
        "type of people does this service suit? munchbox is perfect for those who are time poor, but\n",
        "hungry, and care what they put in to their body. looking for a delicious and nutritious meal,\n",
        "that isn’t frozen or full of crap. we put all the freshness, flavour, love and care into each meal,\n",
        "so you don’t have to! breaky, lunch, or tea, pick up or delivery, we’ve got you covered so you\n",
        "don’t have to think about cooking a thing! munchbox isn’t exclusively for vegetarians or\n",
        "vegans, but is perfect for those looking to try a tasty healthy alternative! do you do custom\n",
        "orders? or is everything off the set menu? yes! all our meals are fully customisable to suit\n",
        "diet and taste! don’t like tomato? just let us know! gluten intolerant? we got you! you can add\n",
        "or remove any ingredients and extras in our meals when you order. however, if you’d like our\n",
        "chefs to create something extra special just for you, we’re more than happy to! we can\n",
        "customise personalised menus, meal plans and munchboxes just for you! where are you\n",
        "hoping to take munchbox in future? munchbox has big plans for the future! you can expect\n",
        "an ever-changing menu (to keep up with my ever-changing mind). we’ll be incorporating\n",
        "menulog and uber eats as apart of our service, and expanding trading hours and service\n",
        "locations in the very near future. there may also be plans for ‘munch mobile’ to attend\n",
        "festivals, markets, and events.. but i can’t give too much away! we have sooo many\n",
        "surprises for ya’ll, but i can’t spoil them all at once! check it out via insta @vegan.munchbox\n",
        "or you can get your munch on at munchboxmeals.com.au \"\"\""
      ]
    },
    {
      "cell_type": "code",
      "source": [
        "ingredients = ['Ambrette Seed',\n",
        "'Apple Cinnamon Granola',\n",
        "'Arizona Seasoning',\n",
        "'Americano Coffe',\n",
        "'Baby Abalone',\n",
        "'Cadbury Double Decker Chocolate Bar',\n",
        "'Campari Tomato',\n",
        "'Celery Soup',\n",
        "'Chia Meal',\n",
        "'Crunch Bars',\n",
        "'Cardamom',\n",
        "'Giardiniera',\n",
        "'Hog Maw',\n",
        "'Mccormick Montreal Steak Seasoning',\n",
        "'Muesli',\n",
        "'Mulberry',\n",
        "'Munch Chocolate',\n",
        "'Murukku Packet',\n",
        "'Mango',\n",
        "'Organic Maize',\n",
        "'Organic Peruvian Groundcherry',\n",
        "'Organic Tartar Cream',\n",
        "'Orange Extract',\n",
        "'Pickled Cauliflower',\n",
        "'Pork Chump Chops',\n",
        "'Pork Lungs',\n",
        "'Pork Tripe',\n",
        "'Peanut Butter',\n",
        "'Smokies Sausage',\n",
        "'Snickers Spread',\n",
        "'Strawberry Gelatin',\n",
        "'Salmon',\n",
        "'Tomato',\n",
        "'Tamarind',\n",
        "'Vegan Carob Chips',\n",
        "'Vegan Chicken Strips',\n",
        "'Vegan Chorizo',\n",
        "'Vegan Marshmallow',\n",
        "'Vegan Puff Pastry Sheet',\n",
        "'Vegan Semisweet Chocolate Chips',\n",
        "'Vegan White Cake',\n",
        "'Vegetable Stock',\n",
        "'Vinegar']"
      ],
      "metadata": {
        "id": "vo2UcDaWkmy0"
      },
      "execution_count": 182,
      "outputs": []
    },
    {
      "cell_type": "code",
      "source": [
        "features = ['vegan', 'vegetable','fruit','grains','seed','nut','geelong','breakfast','lunch','dinner','munchies','organic','seasonal','local','herbs','tea','coffee','chocolate','soup']"
      ],
      "metadata": {
        "id": "fp7sjYYW-Zi5"
      },
      "execution_count": 183,
      "outputs": []
    },
    {
      "cell_type": "code",
      "source": [
        "print(len(ingredients))\n",
        "print(len(features))"
      ],
      "metadata": {
        "colab": {
          "base_uri": "https://localhost:8080/"
        },
        "id": "9Ugg7kGDE2_s",
        "outputId": "72002979-a245-4455-f8a5-359ad0a09378"
      },
      "execution_count": 184,
      "outputs": [
        {
          "output_type": "stream",
          "name": "stdout",
          "text": [
            "43\n",
            "19\n"
          ]
        }
      ]
    },
    {
      "cell_type": "code",
      "source": [
        "import pandas as pd\n",
        "from nltk.corpus import stopwords\n",
        "import matplotlib.pyplot as plt\n",
        "import numpy as np"
      ],
      "metadata": {
        "id": "0amP4x3QE4kI"
      },
      "execution_count": 185,
      "outputs": []
    },
    {
      "cell_type": "code",
      "source": [
        "import nltk\n",
        "nltk.download('stopwords')\n",
        "nltk.download('wordnet')\n",
        "nltk.download('omw-1.4')\n",
        "from nltk.stem import WordNetLemmatizer\n",
        "from nltk.corpus import wordnet"
      ],
      "metadata": {
        "colab": {
          "base_uri": "https://localhost:8080/"
        },
        "id": "IOccsw0pssAh",
        "outputId": "af429108-f01d-44d8-eaab-7ba25fe861bd"
      },
      "execution_count": 186,
      "outputs": [
        {
          "output_type": "stream",
          "name": "stderr",
          "text": [
            "[nltk_data] Downloading package stopwords to /root/nltk_data...\n",
            "[nltk_data]   Package stopwords is already up-to-date!\n",
            "[nltk_data] Downloading package wordnet to /root/nltk_data...\n",
            "[nltk_data]   Package wordnet is already up-to-date!\n",
            "[nltk_data] Downloading package omw-1.4 to /root/nltk_data...\n",
            "[nltk_data]   Package omw-1.4 is already up-to-date!\n"
          ]
        }
      ]
    },
    {
      "cell_type": "code",
      "source": [
        "from nltk.tokenize import RegexpTokenizer\n",
        "\n",
        "tokenizer = RegexpTokenizer(r'\\w+')\n",
        "words = tokenizer.tokenize(article)"
      ],
      "metadata": {
        "id": "BQKFsFrGFe27"
      },
      "execution_count": 187,
      "outputs": []
    },
    {
      "cell_type": "code",
      "source": [
        "stop_words = set(stopwords.words(\"english\"))\n",
        "filtered_words = []\n",
        "for word in words :\n",
        "  if word.casefold() not in stop_words:\n",
        "    filtered_words.append(word)"
      ],
      "metadata": {
        "id": "bia-zETYswxt"
      },
      "execution_count": 188,
      "outputs": []
    },
    {
      "cell_type": "code",
      "source": [
        "lemmatizer = WordNetLemmatizer()\n",
        "lemmatized_words = [lemmatizer.lemmatize(word) for word in filtered_words]"
      ],
      "metadata": {
        "id": "2OdoTwOoudbA"
      },
      "execution_count": 189,
      "outputs": []
    },
    {
      "cell_type": "code",
      "source": [
        "feature_synonyms = []\n",
        "feature_antonyms = []\n",
        "for word in features :\n",
        "  synonyms = []\n",
        "  antonyms = []\n",
        "  for syn in wordnet.synsets(word):\n",
        "    for l in syn.lemmas():\n",
        "        synonyms.append(l.name())\n",
        "        if l.antonyms():\n",
        "            antonyms.append(l.antonyms()[0].name())\n",
        "  synonyms.append(word)    \n",
        "  feature_synonyms.append(set(synonyms))\n",
        "  feature_antonyms.append(set(antonyms))"
      ],
      "metadata": {
        "id": "BIsnfVb04r_4"
      },
      "execution_count": 190,
      "outputs": []
    },
    {
      "cell_type": "code",
      "source": [
        "feature_syno = {k:v for (k,v) in zip(features,feature_synonyms)}\n",
        "feature_anto = {k:v for (k,v) in zip(features,feature_antonyms)}\n",
        "scores = []"
      ],
      "metadata": {
        "id": "5i7bemOx4tv9"
      },
      "execution_count": 191,
      "outputs": []
    },
    {
      "cell_type": "code",
      "source": [
        "for x in features:\n",
        "  score = 0 \n",
        "  for syn in feature_syno[x]:\n",
        "      score = score + lemmatized_words.count(syn)\n",
        "\n",
        "  for anto in feature_anto[x]:\n",
        "    if anto in lemmatized_words :\n",
        "      score = score - lemmatized_words.count(anto)\n",
        "  \n",
        "  scores.append(score)\n"
      ],
      "metadata": {
        "id": "bygan3uJ9byw"
      },
      "execution_count": 192,
      "outputs": []
    },
    {
      "cell_type": "code",
      "source": [
        "ambrette_seed = ['vegan', 'seed','tea',]\n",
        "Apple_Cinnamon_Granola = ['fruit','nut','breakfast']\n",
        "Arizona_Seasoning = ['vegan','herbs','lunch','dinner']\n",
        "Americano_Coffe = ['coffee']\n",
        "Baby_Abalone  = ['lunch','dinner']\n",
        "Cadbury_Double_Decker_Chocolate_Bar = ['munchies','chocolate']\n",
        "Campari_Tomato = ['vegan','vegetable','organic']\n",
        "Celery_Soup = ['vegan','soup']\n",
        "Chia_Meal = ['vegan','lunch','dinner','herb','seasonal']\n",
        "Crunch_Bars = ['munchies']\n",
        "Cardamom = ['vegan','vegetable','seasonal','herb']\n",
        "Giardiniera = ['vegan']\n",
        "Hog_Maw = []\n",
        "Mccormick_Montreal_Steak_Seasoning = []\n",
        "muesli = ['vegan','breakfast']"
      ],
      "metadata": {
        "id": "fCDb_2unEyHu"
      },
      "execution_count": 193,
      "outputs": []
    },
    {
      "cell_type": "code",
      "source": [
        "ambrette_seed_score = sum([scores[features.index(x)] for x in ambrette_seed])\n",
        "print(\"The score for Ambrette seed is \",ambrette_seed_score)"
      ],
      "metadata": {
        "colab": {
          "base_uri": "https://localhost:8080/"
        },
        "id": "QQfZMtUCRTRX",
        "outputId": "268f6527-8af1-45ef-e7e2-851a86bdc801"
      },
      "execution_count": 197,
      "outputs": [
        {
          "output_type": "execute_result",
          "data": {
            "text/plain": [
              "19"
            ]
          },
          "metadata": {},
          "execution_count": 197
        }
      ]
    },
    {
      "cell_type": "markdown",
      "source": [
        "Due to time constraint I am not able to calculate the exact scores for all the ingredients but we can calculate the exact scores for all the ingredients and then we can just prepare a ranked list based on the score of all the ingredients."
      ],
      "metadata": {
        "id": "WqexEU2EQism"
      }
    }
  ]
}